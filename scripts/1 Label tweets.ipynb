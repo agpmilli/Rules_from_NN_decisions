{
 "cells": [
  {
   "cell_type": "markdown",
   "metadata": {},
   "source": [
    "# Neural net classifier to simple rules"
   ]
  },
  {
   "cell_type": "markdown",
   "metadata": {},
   "source": [
    "## Project Title\n",
    "\n",
    "\"Inducing human-interpretable rules for automated document classification\""
   ]
  },
  {
   "cell_type": "markdown",
   "metadata": {},
   "source": [
    "## Project definition\n",
    "\n",
    "We would like to explore the derivation of simple rule-based rules for text classification by using state-of-the-art text classifiers based on deep learning. \n",
    "\n",
    "To that end we will first generate a corpus of twitter message. The goal will be to classify users into groups with opposing polarity, e.g. on a political issue. We will derive initial class labels from simple rules, e.g. the use of characteristic hashtags.\n",
    "\n",
    "Then we will use the labelled documents to train a classifier based on a neural network architecture. Finally, we will derive from the resulting classifier human-interpretable rules that preserve classification accuracy as far as possible."
   ]
  },
  {
   "cell_type": "code",
   "execution_count": 2,
   "metadata": {
    "collapsed": true
   },
   "outputs": [],
   "source": [
    "from itertools import islice\n",
    "import csv\n",
    "import pandas as pd"
   ]
  },
  {
   "cell_type": "markdown",
   "metadata": {},
   "source": [
    "## Load the data"
   ]
  },
  {
   "cell_type": "markdown",
   "metadata": {},
   "source": [
    "### Get the user ranking (author_id, name, trumpscore)"
   ]
  },
  {
   "cell_type": "code",
   "execution_count": 3,
   "metadata": {},
   "outputs": [
    {
     "name": "stdout",
     "output_type": "stream",
     "text": [
      "51000000\n",
      "52000000\n",
      "53000000\n"
     ]
    }
   ],
   "source": [
    "ranking_user = []\n",
    "with open(\"data/trump.dump\", encoding=\"utf8\") as f:\n",
    "    i = 50856403\n",
    "    for line  in islice(f, 50856403, 53079912):\n",
    "        i+=1\n",
    "        if(i%1000000==0):\n",
    "            print(i)\n",
    "        document=[]\n",
    "        elems = line.split(\"\\t\")\n",
    "        author_id = elems[0]\n",
    "        name = elems[1]\n",
    "        authority = elems[4]\n",
    "        document.append(author_id)\n",
    "        document.append(name)\n",
    "        document.append(authority)\n",
    "        ranking_user.append(document)"
   ]
  },
  {
   "cell_type": "code",
   "execution_count": 4,
   "metadata": {},
   "outputs": [
    {
     "data": {
      "text/plain": [
       "2223509"
      ]
     },
     "execution_count": 4,
     "metadata": {},
     "output_type": "execute_result"
    }
   ],
   "source": [
    "len(ranking_user)"
   ]
  },
  {
   "cell_type": "code",
   "execution_count": 5,
   "metadata": {
    "collapsed": true
   },
   "outputs": [],
   "source": [
    "df_user = pd.DataFrame(ranking_user, columns=[\"author_id\", \"username\", \"trumpscore\"])"
   ]
  },
  {
   "cell_type": "code",
   "execution_count": 6,
   "metadata": {
    "collapsed": true
   },
   "outputs": [],
   "source": [
    "df_user[\"author_id\"] = pd.to_numeric(df_user[\"author_id\"])"
   ]
  },
  {
   "cell_type": "code",
   "execution_count": 7,
   "metadata": {
    "collapsed": true
   },
   "outputs": [],
   "source": [
    "df_user[\"trumpscore\"] = pd.to_numeric(df_user[\"trumpscore\"])"
   ]
  },
  {
   "cell_type": "code",
   "execution_count": 8,
   "metadata": {},
   "outputs": [
    {
     "data": {
      "text/html": [
       "<div>\n",
       "<style>\n",
       "    .dataframe thead tr:only-child th {\n",
       "        text-align: right;\n",
       "    }\n",
       "\n",
       "    .dataframe thead th {\n",
       "        text-align: left;\n",
       "    }\n",
       "\n",
       "    .dataframe tbody tr th {\n",
       "        vertical-align: top;\n",
       "    }\n",
       "</style>\n",
       "<table border=\"1\" class=\"dataframe\">\n",
       "  <thead>\n",
       "    <tr style=\"text-align: right;\">\n",
       "      <th></th>\n",
       "      <th>author_id</th>\n",
       "      <th>username</th>\n",
       "      <th>trumpscore</th>\n",
       "    </tr>\n",
       "  </thead>\n",
       "  <tbody>\n",
       "    <tr>\n",
       "      <th>0</th>\n",
       "      <td>1781551</td>\n",
       "      <td>dbernstein</td>\n",
       "      <td>-0.781121</td>\n",
       "    </tr>\n",
       "    <tr>\n",
       "      <th>1</th>\n",
       "      <td>178434460</td>\n",
       "      <td>drturpin</td>\n",
       "      <td>-0.888996</td>\n",
       "    </tr>\n",
       "    <tr>\n",
       "      <th>2</th>\n",
       "      <td>17862067</td>\n",
       "      <td>EmpressNorton</td>\n",
       "      <td>-0.843733</td>\n",
       "    </tr>\n",
       "    <tr>\n",
       "      <th>3</th>\n",
       "      <td>17882773</td>\n",
       "      <td>RealJim</td>\n",
       "      <td>-0.743249</td>\n",
       "    </tr>\n",
       "    <tr>\n",
       "      <th>4</th>\n",
       "      <td>17900914</td>\n",
       "      <td>TheJohnNantz</td>\n",
       "      <td>0.660194</td>\n",
       "    </tr>\n",
       "  </tbody>\n",
       "</table>\n",
       "</div>"
      ],
      "text/plain": [
       "   author_id       username  trumpscore\n",
       "0    1781551     dbernstein   -0.781121\n",
       "1  178434460       drturpin   -0.888996\n",
       "2   17862067  EmpressNorton   -0.843733\n",
       "3   17882773        RealJim   -0.743249\n",
       "4   17900914   TheJohnNantz    0.660194"
      ]
     },
     "execution_count": 8,
     "metadata": {},
     "output_type": "execute_result"
    }
   ],
   "source": [
    "df_user.head()"
   ]
  },
  {
   "cell_type": "code",
   "execution_count": 9,
   "metadata": {
    "collapsed": true
   },
   "outputs": [],
   "source": [
    "df_user.to_csv(\"data/user_trumpscore.csv\")"
   ]
  },
  {
   "cell_type": "markdown",
   "metadata": {},
   "source": [
    "### Get the type of the documents"
   ]
  },
  {
   "cell_type": "code",
   "execution_count": 10,
   "metadata": {},
   "outputs": [
    {
     "name": "stdout",
     "output_type": "stream",
     "text": [
      "17000000\n",
      "18000000\n",
      "19000000\n",
      "20000000\n",
      "21000000\n",
      "22000000\n",
      "23000000\n"
     ]
    }
   ],
   "source": [
    "documents_type = []\n",
    "with open(\"data/trump.dump\", encoding=\"utf8\") as f:\n",
    "    i = 16336370\n",
    "    for line  in islice(f, 16336370, 23505983):\n",
    "        i+=1\n",
    "        if(i%1000000==0):\n",
    "            print(i)\n",
    "        document=[]\n",
    "        elems = line.split(\"\\t\")\n",
    "        doctype = elems[7]\n",
    "        document.append(doctype)\n",
    "        if doctype != \"\\\\N\":\n",
    "            documents_type.append(document)"
   ]
  },
  {
   "cell_type": "code",
   "execution_count": 11,
   "metadata": {
    "collapsed": true
   },
   "outputs": [],
   "source": [
    "settype = set([item for sublist in documents_type for item in sublist])"
   ]
  },
  {
   "cell_type": "code",
   "execution_count": 12,
   "metadata": {},
   "outputs": [
    {
     "data": {
      "text/plain": [
       "{'instagram', 'twitter', 'web'}"
      ]
     },
     "execution_count": 12,
     "metadata": {},
     "output_type": "execute_result"
    }
   ],
   "source": [
    "settype"
   ]
  },
  {
   "cell_type": "markdown",
   "metadata": {},
   "source": [
    "### Should I keep only twitter or also other type of data ? \n",
    "\n",
    "#### I only take tweets for the moment"
   ]
  },
  {
   "cell_type": "code",
   "execution_count": 7,
   "metadata": {},
   "outputs": [
    {
     "name": "stdout",
     "output_type": "stream",
     "text": [
      "17000000\n",
      "18000000\n",
      "19000000\n",
      "20000000\n",
      "21000000\n",
      "22000000\n",
      "23000000\n"
     ]
    }
   ],
   "source": [
    "documents = []\n",
    "with open(\"data/trump.dump\", encoding=\"utf8\") as f:\n",
    "    i = 16336370\n",
    "    for line  in islice(f, 16336370, 23505983):\n",
    "        i+=1\n",
    "        if(i%1000000==0):\n",
    "            print(i)\n",
    "        document=[]\n",
    "        elems = line.split(\"\\t\")\n",
    "        username = elems[2]\n",
    "        author_id = elems[1]\n",
    "        body = elems[5]\n",
    "        doctype = elems[7]\n",
    "        document.append(author_id)\n",
    "        document.append(username)\n",
    "        document.append(body)\n",
    "        if doctype == \"twitter\":\n",
    "            if (username!=\"\\\\N\") | (author_id!=\"\\\\N\"):\n",
    "                documents.append(document)"
   ]
  },
  {
   "cell_type": "code",
   "execution_count": 193,
   "metadata": {},
   "outputs": [
    {
     "data": {
      "text/plain": [
       "6672171"
      ]
     },
     "execution_count": 193,
     "metadata": {},
     "output_type": "execute_result"
    }
   ],
   "source": [
    "len(documents)"
   ]
  },
  {
   "cell_type": "code",
   "execution_count": 310,
   "metadata": {
    "collapsed": true
   },
   "outputs": [],
   "source": [
    "df_docs = pd.DataFrame(documents, columns=[\"author_id\", \"username\", \"body\"])"
   ]
  },
  {
   "cell_type": "code",
   "execution_count": 311,
   "metadata": {
    "collapsed": true
   },
   "outputs": [],
   "source": [
    "df_docs[\"author_id\"] = pd.to_numeric(df_docs[\"author_id\"])"
   ]
  },
  {
   "cell_type": "code",
   "execution_count": 312,
   "metadata": {},
   "outputs": [
    {
     "data": {
      "text/html": [
       "<div>\n",
       "<style>\n",
       "    .dataframe thead tr:only-child th {\n",
       "        text-align: right;\n",
       "    }\n",
       "\n",
       "    .dataframe thead th {\n",
       "        text-align: left;\n",
       "    }\n",
       "\n",
       "    .dataframe tbody tr th {\n",
       "        vertical-align: top;\n",
       "    }\n",
       "</style>\n",
       "<table border=\"1\" class=\"dataframe\">\n",
       "  <thead>\n",
       "    <tr style=\"text-align: right;\">\n",
       "      <th></th>\n",
       "      <th>author_id</th>\n",
       "      <th>username</th>\n",
       "      <th>body</th>\n",
       "    </tr>\n",
       "  </thead>\n",
       "  <tbody>\n",
       "    <tr>\n",
       "      <th>0</th>\n",
       "      <td>2286887581</td>\n",
       "      <td>\\N</td>\n",
       "      <td>@WhiteHouse @POTUS Pass the vomit bag, please.</td>\n",
       "    </tr>\n",
       "    <tr>\n",
       "      <th>1</th>\n",
       "      <td>15725935</td>\n",
       "      <td>\\N</td>\n",
       "      <td>@realDonaldTrump senate dems are being deliberate</td>\n",
       "    </tr>\n",
       "    <tr>\n",
       "      <th>2</th>\n",
       "      <td>15768846</td>\n",
       "      <td>\\N</td>\n",
       "      <td>Thank you @MarkWarner https://t.co/s6UPKZThQA</td>\n",
       "    </tr>\n",
       "    <tr>\n",
       "      <th>3</th>\n",
       "      <td>706566014369185793</td>\n",
       "      <td>\\N</td>\n",
       "      <td>@WhiteHouse @POTUS I always have Faith</td>\n",
       "    </tr>\n",
       "    <tr>\n",
       "      <th>4</th>\n",
       "      <td>21218159</td>\n",
       "      <td>\\N</td>\n",
       "      <td>Well played, @mcsweeneys https://t.co/72XDDBM6k1</td>\n",
       "    </tr>\n",
       "  </tbody>\n",
       "</table>\n",
       "</div>"
      ],
      "text/plain": [
       "            author_id username  \\\n",
       "0          2286887581       \\N   \n",
       "1            15725935       \\N   \n",
       "2            15768846       \\N   \n",
       "3  706566014369185793       \\N   \n",
       "4            21218159       \\N   \n",
       "\n",
       "                                                body  \n",
       "0     @WhiteHouse @POTUS Pass the vomit bag, please.  \n",
       "1  @realDonaldTrump senate dems are being deliberate  \n",
       "2      Thank you @MarkWarner https://t.co/s6UPKZThQA  \n",
       "3             @WhiteHouse @POTUS I always have Faith  \n",
       "4   Well played, @mcsweeneys https://t.co/72XDDBM6k1  "
      ]
     },
     "execution_count": 312,
     "metadata": {},
     "output_type": "execute_result"
    }
   ],
   "source": [
    "df_docs.head()"
   ]
  },
  {
   "cell_type": "code",
   "execution_count": 313,
   "metadata": {
    "collapsed": true
   },
   "outputs": [],
   "source": [
    "df_docs.to_csv(\"data/docs_tweets.csv\")"
   ]
  },
  {
   "cell_type": "markdown",
   "metadata": {},
   "source": [
    "## Join dataframe to obtain score on tweets"
   ]
  },
  {
   "cell_type": "code",
   "execution_count": 13,
   "metadata": {},
   "outputs": [
    {
     "name": "stderr",
     "output_type": "stream",
     "text": [
      "C:\\Users\\Alain\\Anaconda3\\lib\\site-packages\\numpy\\lib\\arraysetops.py:463: FutureWarning: elementwise comparison failed; returning scalar instead, but in the future will perform elementwise comparison\n",
      "  mask |= (ar1 == a)\n"
     ]
    },
    {
     "data": {
      "text/html": [
       "<div>\n",
       "<style>\n",
       "    .dataframe thead tr:only-child th {\n",
       "        text-align: right;\n",
       "    }\n",
       "\n",
       "    .dataframe thead th {\n",
       "        text-align: left;\n",
       "    }\n",
       "\n",
       "    .dataframe tbody tr th {\n",
       "        vertical-align: top;\n",
       "    }\n",
       "</style>\n",
       "<table border=\"1\" class=\"dataframe\">\n",
       "  <thead>\n",
       "    <tr style=\"text-align: right;\">\n",
       "      <th></th>\n",
       "      <th>author_id</th>\n",
       "      <th>username</th>\n",
       "      <th>trumpscore</th>\n",
       "    </tr>\n",
       "  </thead>\n",
       "  <tbody>\n",
       "    <tr>\n",
       "      <th>0</th>\n",
       "      <td>1781551</td>\n",
       "      <td>dbernstein</td>\n",
       "      <td>-0.781121</td>\n",
       "    </tr>\n",
       "    <tr>\n",
       "      <th>1</th>\n",
       "      <td>178434460</td>\n",
       "      <td>drturpin</td>\n",
       "      <td>-0.888996</td>\n",
       "    </tr>\n",
       "    <tr>\n",
       "      <th>2</th>\n",
       "      <td>17862067</td>\n",
       "      <td>EmpressNorton</td>\n",
       "      <td>-0.843733</td>\n",
       "    </tr>\n",
       "    <tr>\n",
       "      <th>3</th>\n",
       "      <td>17882773</td>\n",
       "      <td>RealJim</td>\n",
       "      <td>-0.743249</td>\n",
       "    </tr>\n",
       "    <tr>\n",
       "      <th>4</th>\n",
       "      <td>17900914</td>\n",
       "      <td>TheJohnNantz</td>\n",
       "      <td>0.660194</td>\n",
       "    </tr>\n",
       "  </tbody>\n",
       "</table>\n",
       "</div>"
      ],
      "text/plain": [
       "   author_id       username  trumpscore\n",
       "0    1781551     dbernstein   -0.781121\n",
       "1  178434460       drturpin   -0.888996\n",
       "2   17862067  EmpressNorton   -0.843733\n",
       "3   17882773        RealJim   -0.743249\n",
       "4   17900914   TheJohnNantz    0.660194"
      ]
     },
     "execution_count": 13,
     "metadata": {},
     "output_type": "execute_result"
    }
   ],
   "source": [
    "df_user = pd.read_csv(\"data/user_trumpscore.csv\", index_col=0)\n",
    "df_user.head()"
   ]
  },
  {
   "cell_type": "code",
   "execution_count": 14,
   "metadata": {},
   "outputs": [
    {
     "data": {
      "text/plain": [
       "2223509"
      ]
     },
     "execution_count": 14,
     "metadata": {},
     "output_type": "execute_result"
    }
   ],
   "source": [
    "len(df_user)"
   ]
  },
  {
   "cell_type": "code",
   "execution_count": 17,
   "metadata": {},
   "outputs": [
    {
     "data": {
      "text/plain": [
       "47271"
      ]
     },
     "execution_count": 17,
     "metadata": {},
     "output_type": "execute_result"
    }
   ],
   "source": [
    "len(df_user[df_user['trumpscore']>0.1])"
   ]
  },
  {
   "cell_type": "code",
   "execution_count": 18,
   "metadata": {},
   "outputs": [
    {
     "data": {
      "text/plain": [
       "45493"
      ]
     },
     "execution_count": 18,
     "metadata": {},
     "output_type": "execute_result"
    }
   ],
   "source": [
    "len(df_user[df_user['trumpscore']<-0.1])"
   ]
  },
  {
   "cell_type": "code",
   "execution_count": 320,
   "metadata": {},
   "outputs": [
    {
     "name": "stderr",
     "output_type": "stream",
     "text": [
      "c:\\python36\\lib\\site-packages\\numpy\\lib\\arraysetops.py:463: FutureWarning: elementwise comparison failed; returning scalar instead, but in the future will perform elementwise comparison\n",
      "  mask |= (ar1 == a)\n"
     ]
    },
    {
     "data": {
      "text/html": [
       "<div>\n",
       "<style>\n",
       "    .dataframe thead tr:only-child th {\n",
       "        text-align: right;\n",
       "    }\n",
       "\n",
       "    .dataframe thead th {\n",
       "        text-align: left;\n",
       "    }\n",
       "\n",
       "    .dataframe tbody tr th {\n",
       "        vertical-align: top;\n",
       "    }\n",
       "</style>\n",
       "<table border=\"1\" class=\"dataframe\">\n",
       "  <thead>\n",
       "    <tr style=\"text-align: right;\">\n",
       "      <th></th>\n",
       "      <th>author_id</th>\n",
       "      <th>username</th>\n",
       "      <th>body</th>\n",
       "    </tr>\n",
       "  </thead>\n",
       "  <tbody>\n",
       "    <tr>\n",
       "      <th>0</th>\n",
       "      <td>2286887581</td>\n",
       "      <td>\\N</td>\n",
       "      <td>@WhiteHouse @POTUS Pass the vomit bag, please.</td>\n",
       "    </tr>\n",
       "    <tr>\n",
       "      <th>1</th>\n",
       "      <td>15725935</td>\n",
       "      <td>\\N</td>\n",
       "      <td>@realDonaldTrump senate dems are being deliberate</td>\n",
       "    </tr>\n",
       "    <tr>\n",
       "      <th>2</th>\n",
       "      <td>15768846</td>\n",
       "      <td>\\N</td>\n",
       "      <td>Thank you @MarkWarner https://t.co/s6UPKZThQA</td>\n",
       "    </tr>\n",
       "    <tr>\n",
       "      <th>3</th>\n",
       "      <td>706566014369185793</td>\n",
       "      <td>\\N</td>\n",
       "      <td>@WhiteHouse @POTUS I always have Faith</td>\n",
       "    </tr>\n",
       "    <tr>\n",
       "      <th>4</th>\n",
       "      <td>21218159</td>\n",
       "      <td>\\N</td>\n",
       "      <td>Well played, @mcsweeneys https://t.co/72XDDBM6k1</td>\n",
       "    </tr>\n",
       "  </tbody>\n",
       "</table>\n",
       "</div>"
      ],
      "text/plain": [
       "            author_id username  \\\n",
       "0          2286887581       \\N   \n",
       "1            15725935       \\N   \n",
       "2            15768846       \\N   \n",
       "3  706566014369185793       \\N   \n",
       "4            21218159       \\N   \n",
       "\n",
       "                                                body  \n",
       "0     @WhiteHouse @POTUS Pass the vomit bag, please.  \n",
       "1  @realDonaldTrump senate dems are being deliberate  \n",
       "2      Thank you @MarkWarner https://t.co/s6UPKZThQA  \n",
       "3             @WhiteHouse @POTUS I always have Faith  \n",
       "4   Well played, @mcsweeneys https://t.co/72XDDBM6k1  "
      ]
     },
     "execution_count": 320,
     "metadata": {},
     "output_type": "execute_result"
    }
   ],
   "source": [
    "df_docs = pd.read_csv(\"data/docs_tweets.csv\", index_col=0, encoding = \"ISO-8859-1\")\n",
    "df_docs.head()"
   ]
  },
  {
   "cell_type": "code",
   "execution_count": 321,
   "metadata": {},
   "outputs": [
    {
     "data": {
      "text/plain": [
       "6672171"
      ]
     },
     "execution_count": 321,
     "metadata": {},
     "output_type": "execute_result"
    }
   ],
   "source": [
    "len(df_docs)"
   ]
  },
  {
   "cell_type": "code",
   "execution_count": 322,
   "metadata": {
    "collapsed": true
   },
   "outputs": [],
   "source": [
    "df_docs.drop('username', axis=1, inplace=True)"
   ]
  },
  {
   "cell_type": "code",
   "execution_count": 323,
   "metadata": {
    "collapsed": true
   },
   "outputs": [],
   "source": [
    "df_docs_score = df_docs.set_index('author_id').join(df_user.set_index('author_id'))"
   ]
  },
  {
   "cell_type": "code",
   "execution_count": 328,
   "metadata": {},
   "outputs": [
    {
     "data": {
      "text/html": [
       "<div>\n",
       "<style>\n",
       "    .dataframe thead tr:only-child th {\n",
       "        text-align: right;\n",
       "    }\n",
       "\n",
       "    .dataframe thead th {\n",
       "        text-align: left;\n",
       "    }\n",
       "\n",
       "    .dataframe tbody tr th {\n",
       "        vertical-align: top;\n",
       "    }\n",
       "</style>\n",
       "<table border=\"1\" class=\"dataframe\">\n",
       "  <thead>\n",
       "    <tr style=\"text-align: right;\">\n",
       "      <th></th>\n",
       "      <th>body</th>\n",
       "      <th>username</th>\n",
       "      <th>trumpscore</th>\n",
       "    </tr>\n",
       "    <tr>\n",
       "      <th>author_id</th>\n",
       "      <th></th>\n",
       "      <th></th>\n",
       "      <th></th>\n",
       "    </tr>\n",
       "  </thead>\n",
       "  <tbody>\n",
       "    <tr>\n",
       "      <th>12</th>\n",
       "      <td>We're all directly accelerating climate change...</td>\n",
       "      <td>jack</td>\n",
       "      <td>-0.617434</td>\n",
       "    </tr>\n",
       "    <tr>\n",
       "      <th>12</th>\n",
       "      <td>This country was founded on one self-evident a...</td>\n",
       "      <td>jack</td>\n",
       "      <td>-0.617434</td>\n",
       "    </tr>\n",
       "    <tr>\n",
       "      <th>12</th>\n",
       "      <td>I've been CEO of both companies for over 3 mon...</td>\n",
       "      <td>jack</td>\n",
       "      <td>-0.617434</td>\n",
       "    </tr>\n",
       "    <tr>\n",
       "      <th>12</th>\n",
       "      <td>My focus is to build teams that move fast, and...</td>\n",
       "      <td>jack</td>\n",
       "      <td>-0.617434</td>\n",
       "    </tr>\n",
       "    <tr>\n",
       "      <th>12</th>\n",
       "      <td>Good to know!: \"we also prepare and serve cric...</td>\n",
       "      <td>jack</td>\n",
       "      <td>-0.617434</td>\n",
       "    </tr>\n",
       "  </tbody>\n",
       "</table>\n",
       "</div>"
      ],
      "text/plain": [
       "                                                        body username  \\\n",
       "author_id                                                               \n",
       "12         We're all directly accelerating climate change...     jack   \n",
       "12         This country was founded on one self-evident a...     jack   \n",
       "12         I've been CEO of both companies for over 3 mon...     jack   \n",
       "12         My focus is to build teams that move fast, and...     jack   \n",
       "12         Good to know!: \"we also prepare and serve cric...     jack   \n",
       "\n",
       "           trumpscore  \n",
       "author_id              \n",
       "12          -0.617434  \n",
       "12          -0.617434  \n",
       "12          -0.617434  \n",
       "12          -0.617434  \n",
       "12          -0.617434  "
      ]
     },
     "execution_count": 328,
     "metadata": {},
     "output_type": "execute_result"
    }
   ],
   "source": [
    "df_docs_score.head()"
   ]
  },
  {
   "cell_type": "code",
   "execution_count": 353,
   "metadata": {
    "collapsed": true
   },
   "outputs": [],
   "source": [
    "df_docs_score.reset_index(inplace=True)"
   ]
  },
  {
   "cell_type": "code",
   "execution_count": 332,
   "metadata": {},
   "outputs": [
    {
     "data": {
      "text/plain": [
       "6672171"
      ]
     },
     "execution_count": 332,
     "metadata": {},
     "output_type": "execute_result"
    }
   ],
   "source": [
    "len(df_docs)"
   ]
  },
  {
   "cell_type": "code",
   "execution_count": 326,
   "metadata": {
    "collapsed": true
   },
   "outputs": [],
   "source": [
    "# Remove NaN scores\n",
    "df_docs_score = df_docs_score[pd.notnull(df_docs_score['trumpscore'])]"
   ]
  },
  {
   "cell_type": "code",
   "execution_count": 331,
   "metadata": {},
   "outputs": [
    {
     "data": {
      "text/plain": [
       "5519028"
      ]
     },
     "execution_count": 331,
     "metadata": {},
     "output_type": "execute_result"
    }
   ],
   "source": [
    "len(df_docs_score)"
   ]
  },
  {
   "cell_type": "code",
   "execution_count": 333,
   "metadata": {
    "collapsed": true
   },
   "outputs": [],
   "source": [
    "# Remove 0.0 scores\n",
    "df_docs_score = df_docs_score[df_docs_score['trumpscore']!=0.0]"
   ]
  },
  {
   "cell_type": "code",
   "execution_count": 355,
   "metadata": {},
   "outputs": [
    {
     "data": {
      "text/plain": [
       "3472172"
      ]
     },
     "execution_count": 355,
     "metadata": {},
     "output_type": "execute_result"
    }
   ],
   "source": [
    "len(df_docs_score)"
   ]
  },
  {
   "cell_type": "code",
   "execution_count": 356,
   "metadata": {},
   "outputs": [
    {
     "data": {
      "text/html": [
       "<div>\n",
       "<style>\n",
       "    .dataframe thead tr:only-child th {\n",
       "        text-align: right;\n",
       "    }\n",
       "\n",
       "    .dataframe thead th {\n",
       "        text-align: left;\n",
       "    }\n",
       "\n",
       "    .dataframe tbody tr th {\n",
       "        vertical-align: top;\n",
       "    }\n",
       "</style>\n",
       "<table border=\"1\" class=\"dataframe\">\n",
       "  <thead>\n",
       "    <tr style=\"text-align: right;\">\n",
       "      <th></th>\n",
       "      <th>author_id</th>\n",
       "      <th>body</th>\n",
       "      <th>username</th>\n",
       "      <th>trumpscore</th>\n",
       "    </tr>\n",
       "  </thead>\n",
       "  <tbody>\n",
       "    <tr>\n",
       "      <th>0</th>\n",
       "      <td>12</td>\n",
       "      <td>We're all directly accelerating climate change...</td>\n",
       "      <td>jack</td>\n",
       "      <td>-0.617434</td>\n",
       "    </tr>\n",
       "    <tr>\n",
       "      <th>1</th>\n",
       "      <td>12</td>\n",
       "      <td>This country was founded on one self-evident a...</td>\n",
       "      <td>jack</td>\n",
       "      <td>-0.617434</td>\n",
       "    </tr>\n",
       "    <tr>\n",
       "      <th>2</th>\n",
       "      <td>12</td>\n",
       "      <td>I've been CEO of both companies for over 3 mon...</td>\n",
       "      <td>jack</td>\n",
       "      <td>-0.617434</td>\n",
       "    </tr>\n",
       "    <tr>\n",
       "      <th>3</th>\n",
       "      <td>12</td>\n",
       "      <td>My focus is to build teams that move fast, and...</td>\n",
       "      <td>jack</td>\n",
       "      <td>-0.617434</td>\n",
       "    </tr>\n",
       "    <tr>\n",
       "      <th>4</th>\n",
       "      <td>12</td>\n",
       "      <td>Good to know!: \"we also prepare and serve cric...</td>\n",
       "      <td>jack</td>\n",
       "      <td>-0.617434</td>\n",
       "    </tr>\n",
       "    <tr>\n",
       "      <th>5</th>\n",
       "      <td>12</td>\n",
       "      <td>@mcnees @Support not sure how this got past us...</td>\n",
       "      <td>jack</td>\n",
       "      <td>-0.617434</td>\n",
       "    </tr>\n",
       "    <tr>\n",
       "      <th>6</th>\n",
       "      <td>12</td>\n",
       "      <td>Excited to welcome @candi to lead our inclusio...</td>\n",
       "      <td>jack</td>\n",
       "      <td>-0.617434</td>\n",
       "    </tr>\n",
       "    <tr>\n",
       "      <th>7</th>\n",
       "      <td>12</td>\n",
       "      <td>2. Some people who unfollowed @POTUS in the pa...</td>\n",
       "      <td>jack</td>\n",
       "      <td>-0.617434</td>\n",
       "    </tr>\n",
       "    <tr>\n",
       "      <th>8</th>\n",
       "      <td>12</td>\n",
       "      <td>Grateful for 11 years of people using Twitter ...</td>\n",
       "      <td>jack</td>\n",
       "      <td>-0.617434</td>\n",
       "    </tr>\n",
       "    <tr>\n",
       "      <th>9</th>\n",
       "      <td>12</td>\n",
       "      <td>Square is the most powerful set of tools to st...</td>\n",
       "      <td>jack</td>\n",
       "      <td>-0.617434</td>\n",
       "    </tr>\n",
       "    <tr>\n",
       "      <th>10</th>\n",
       "      <td>12</td>\n",
       "      <td>?? A Mexican Congressman (@BraulioPRI ) tweet...</td>\n",
       "      <td>jack</td>\n",
       "      <td>-0.617434</td>\n",
       "    </tr>\n",
       "    <tr>\n",
       "      <th>11</th>\n",
       "      <td>12</td>\n",
       "      <td>#IVoted https://t.co/Dz90WFX7Zy</td>\n",
       "      <td>jack</td>\n",
       "      <td>-0.617434</td>\n",
       "    </tr>\n",
       "    <tr>\n",
       "      <th>12</th>\n",
       "      <td>12</td>\n",
       "      <td>Making the good pasta, reading through some am...</td>\n",
       "      <td>jack</td>\n",
       "      <td>-0.617434</td>\n",
       "    </tr>\n",
       "    <tr>\n",
       "      <th>13</th>\n",
       "      <td>12</td>\n",
       "      <td>@GinnyMcQueen working on that too, apologies t...</td>\n",
       "      <td>jack</td>\n",
       "      <td>-0.617434</td>\n",
       "    </tr>\n",
       "    <tr>\n",
       "      <th>14</th>\n",
       "      <td>12</td>\n",
       "      <td>Twitter stands for freedom of expression. We s...</td>\n",
       "      <td>jack</td>\n",
       "      <td>-0.617434</td>\n",
       "    </tr>\n",
       "    <tr>\n",
       "      <th>15</th>\n",
       "      <td>12</td>\n",
       "      <td>11% of Syrian immigrants to the U.S. are busin...</td>\n",
       "      <td>jack</td>\n",
       "      <td>-0.617434</td>\n",
       "    </tr>\n",
       "    <tr>\n",
       "      <th>16</th>\n",
       "      <td>12</td>\n",
       "      <td>?? Journalists stand up to Trump's 'enemy' st...</td>\n",
       "      <td>jack</td>\n",
       "      <td>-0.617434</td>\n",
       "    </tr>\n",
       "    <tr>\n",
       "      <th>17</th>\n",
       "      <td>12</td>\n",
       "      <td>pasta and the satanic verses. Ah, one more jee...</td>\n",
       "      <td>jack</td>\n",
       "      <td>-0.617434</td>\n",
       "    </tr>\n",
       "    <tr>\n",
       "      <th>18</th>\n",
       "      <td>12</td>\n",
       "      <td>We are naming @adambain COO of Twitter, we're ...</td>\n",
       "      <td>jack</td>\n",
       "      <td>-0.617434</td>\n",
       "    </tr>\n",
       "    <tr>\n",
       "      <th>19</th>\n",
       "      <td>12</td>\n",
       "      <td>Mom likes it ? https://t.co/RPq7uoVIlr</td>\n",
       "      <td>jack</td>\n",
       "      <td>-0.617434</td>\n",
       "    </tr>\n",
       "    <tr>\n",
       "      <th>20</th>\n",
       "      <td>12</td>\n",
       "      <td>??? Hello! We have some news to share!</td>\n",
       "      <td>jack</td>\n",
       "      <td>-0.617434</td>\n",
       "    </tr>\n",
       "    <tr>\n",
       "      <th>21</th>\n",
       "      <td>12</td>\n",
       "      <td>",
       "only things that are creative and not destru...</td>\n",
       "      <td>jack</td>\n",
       "      <td>-0.617434</td>\n",
       "    </tr>\n",
       "    <tr>\n",
       "      <th>22</th>\n",
       "      <td>12</td>\n",
       "      <td>All: we investigated what happened here, and w...</td>\n",
       "      <td>jack</td>\n",
       "      <td>-0.617434</td>\n",
       "    </tr>\n",
       "    <tr>\n",
       "      <th>23</th>\n",
       "      <td>12</td>\n",
       "      <td>Two issues were reported during the day which ...</td>\n",
       "      <td>jack</td>\n",
       "      <td>-0.617434</td>\n",
       "    </tr>\n",
       "    <tr>\n",
       "      <th>24</th>\n",
       "      <td>12</td>\n",
       "      <td>We kicked off that plan at 12p Eastern yesterd...</td>\n",
       "      <td>jack</td>\n",
       "      <td>-0.617434</td>\n",
       "    </tr>\n",
       "  </tbody>\n",
       "</table>\n",
       "</div>"
      ],
      "text/plain": [
       "    author_id                                               body username  \\\n",
       "0          12  We're all directly accelerating climate change...     jack   \n",
       "1          12  This country was founded on one self-evident a...     jack   \n",
       "2          12  I've been CEO of both companies for over 3 mon...     jack   \n",
       "3          12  My focus is to build teams that move fast, and...     jack   \n",
       "4          12  Good to know!: \"we also prepare and serve cric...     jack   \n",
       "5          12  @mcnees @Support not sure how this got past us...     jack   \n",
       "6          12  Excited to welcome @candi to lead our inclusio...     jack   \n",
       "7          12  2. Some people who unfollowed @POTUS in the pa...     jack   \n",
       "8          12  Grateful for 11 years of people using Twitter ...     jack   \n",
       "9          12  Square is the most powerful set of tools to st...     jack   \n",
       "10         12  ?? A Mexican Congressman (@BraulioPRI ) tweet...     jack   \n",
       "11         12                    #IVoted https://t.co/Dz90WFX7Zy     jack   \n",
       "12         12  Making the good pasta, reading through some am...     jack   \n",
       "13         12  @GinnyMcQueen working on that too, apologies t...     jack   \n",
       "14         12  Twitter stands for freedom of expression. We s...     jack   \n",
       "15         12  11% of Syrian immigrants to the U.S. are busin...     jack   \n",
       "16         12  ?? Journalists stand up to Trump's 'enemy' st...     jack   \n",
       "17         12  pasta and the satanic verses. Ah, one more jee...     jack   \n",
       "18         12  We are naming @adambain COO of Twitter, we're ...     jack   \n",
       "19         12             Mom likes it ? https://t.co/RPq7uoVIlr     jack   \n",
       "20         12             ??? Hello! We have some news to share!     jack   \n",
       "21         12  \n",
       "only things that are creative and not destru...     jack   \n",
       "22         12  All: we investigated what happened here, and w...     jack   \n",
       "23         12  Two issues were reported during the day which ...     jack   \n",
       "24         12  We kicked off that plan at 12p Eastern yesterd...     jack   \n",
       "\n",
       "    trumpscore  \n",
       "0    -0.617434  \n",
       "1    -0.617434  \n",
       "2    -0.617434  \n",
       "3    -0.617434  \n",
       "4    -0.617434  \n",
       "5    -0.617434  \n",
       "6    -0.617434  \n",
       "7    -0.617434  \n",
       "8    -0.617434  \n",
       "9    -0.617434  \n",
       "10   -0.617434  \n",
       "11   -0.617434  \n",
       "12   -0.617434  \n",
       "13   -0.617434  \n",
       "14   -0.617434  \n",
       "15   -0.617434  \n",
       "16   -0.617434  \n",
       "17   -0.617434  \n",
       "18   -0.617434  \n",
       "19   -0.617434  \n",
       "20   -0.617434  \n",
       "21   -0.617434  \n",
       "22   -0.617434  \n",
       "23   -0.617434  \n",
       "24   -0.617434  "
      ]
     },
     "execution_count": 356,
     "metadata": {},
     "output_type": "execute_result"
    }
   ],
   "source": [
    "df_docs_score.head(25)"
   ]
  },
  {
   "cell_type": "markdown",
   "metadata": {},
   "source": [
    "### Now do we keep all users, independant of their trumpscore? Or should I keep only users with strong trumpscore (negative or positive) ?\n",
    "\n",
    "#### For the moment I take them all"
   ]
  },
  {
   "cell_type": "code",
   "execution_count": 360,
   "metadata": {
    "collapsed": true
   },
   "outputs": [],
   "source": [
    "df_docs_labelled = pd.DataFrame(df_docs_score)"
   ]
  },
  {
   "cell_type": "code",
   "execution_count": 361,
   "metadata": {
    "collapsed": true
   },
   "outputs": [],
   "source": [
    "# For-Trump label = 1, Anti-Trump label = 0\n",
    "def labelize(row):\n",
    "    if row[\"trumpscore\"]>0:\n",
    "        return 1\n",
    "    else:\n",
    "        return 0"
   ]
  },
  {
   "cell_type": "code",
   "execution_count": 362,
   "metadata": {
    "collapsed": true
   },
   "outputs": [],
   "source": [
    "df_docs_labelled['label'] = df_docs_score.apply(lambda row: labelize(row), axis=1)"
   ]
  },
  {
   "cell_type": "code",
   "execution_count": 364,
   "metadata": {},
   "outputs": [
    {
     "data": {
      "text/html": [
       "<div>\n",
       "<style>\n",
       "    .dataframe thead tr:only-child th {\n",
       "        text-align: right;\n",
       "    }\n",
       "\n",
       "    .dataframe thead th {\n",
       "        text-align: left;\n",
       "    }\n",
       "\n",
       "    .dataframe tbody tr th {\n",
       "        vertical-align: top;\n",
       "    }\n",
       "</style>\n",
       "<table border=\"1\" class=\"dataframe\">\n",
       "  <thead>\n",
       "    <tr style=\"text-align: right;\">\n",
       "      <th></th>\n",
       "      <th>author_id</th>\n",
       "      <th>body</th>\n",
       "      <th>username</th>\n",
       "      <th>trumpscore</th>\n",
       "      <th>label</th>\n",
       "    </tr>\n",
       "  </thead>\n",
       "  <tbody>\n",
       "    <tr>\n",
       "      <th>0</th>\n",
       "      <td>12</td>\n",
       "      <td>We're all directly accelerating climate change...</td>\n",
       "      <td>jack</td>\n",
       "      <td>-0.617434</td>\n",
       "      <td>0</td>\n",
       "    </tr>\n",
       "    <tr>\n",
       "      <th>1</th>\n",
       "      <td>12</td>\n",
       "      <td>This country was founded on one self-evident a...</td>\n",
       "      <td>jack</td>\n",
       "      <td>-0.617434</td>\n",
       "      <td>0</td>\n",
       "    </tr>\n",
       "    <tr>\n",
       "      <th>2</th>\n",
       "      <td>12</td>\n",
       "      <td>I've been CEO of both companies for over 3 mon...</td>\n",
       "      <td>jack</td>\n",
       "      <td>-0.617434</td>\n",
       "      <td>0</td>\n",
       "    </tr>\n",
       "    <tr>\n",
       "      <th>3</th>\n",
       "      <td>12</td>\n",
       "      <td>My focus is to build teams that move fast, and...</td>\n",
       "      <td>jack</td>\n",
       "      <td>-0.617434</td>\n",
       "      <td>0</td>\n",
       "    </tr>\n",
       "    <tr>\n",
       "      <th>4</th>\n",
       "      <td>12</td>\n",
       "      <td>Good to know!: \"we also prepare and serve cric...</td>\n",
       "      <td>jack</td>\n",
       "      <td>-0.617434</td>\n",
       "      <td>0</td>\n",
       "    </tr>\n",
       "  </tbody>\n",
       "</table>\n",
       "</div>"
      ],
      "text/plain": [
       "   author_id                                               body username  \\\n",
       "0         12  We're all directly accelerating climate change...     jack   \n",
       "1         12  This country was founded on one self-evident a...     jack   \n",
       "2         12  I've been CEO of both companies for over 3 mon...     jack   \n",
       "3         12  My focus is to build teams that move fast, and...     jack   \n",
       "4         12  Good to know!: \"we also prepare and serve cric...     jack   \n",
       "\n",
       "   trumpscore  label  \n",
       "0   -0.617434      0  \n",
       "1   -0.617434      0  \n",
       "2   -0.617434      0  \n",
       "3   -0.617434      0  \n",
       "4   -0.617434      0  "
      ]
     },
     "execution_count": 364,
     "metadata": {},
     "output_type": "execute_result"
    }
   ],
   "source": [
    "df_docs_labelled.head()"
   ]
  },
  {
   "cell_type": "code",
   "execution_count": 365,
   "metadata": {
    "collapsed": true
   },
   "outputs": [],
   "source": [
    "df_docs_score.to_csv(\"data/tweets_labelled.csv\")"
   ]
  },
  {
   "cell_type": "code",
   "execution_count": null,
   "metadata": {
    "collapsed": true
   },
   "outputs": [],
   "source": []
  }
 ],
 "metadata": {
  "kernelspec": {
   "display_name": "Python 3",
   "language": "python",
   "name": "python3"
  },
  "language_info": {
   "codemirror_mode": {
    "name": "ipython",
    "version": 3
   },
   "file_extension": ".py",
   "mimetype": "text/x-python",
   "name": "python",
   "nbconvert_exporter": "python",
   "pygments_lexer": "ipython3",
   "version": "3.6.2"
  }
 },
 "nbformat": 4,
 "nbformat_minor": 2
}
